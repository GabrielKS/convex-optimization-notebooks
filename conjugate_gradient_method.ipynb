{
 "cells": [
  {
   "cell_type": "markdown",
   "metadata": {},
   "source": [
    "# Conjugate Gradient Method\n",
    "\n",
    "Gabriel Konar-Steenberg, 2022-10-24"
   ]
  },
  {
   "cell_type": "markdown",
   "metadata": {},
   "source": [
    "## Problem Statement\n",
    "\n",
    "\"For a convex optimization problem with a cost function to minimize:\n",
    "$$ f(x, y, z) = a(x-1)^4+(y-2)^2+b(z-1)^4 $$\n",
    "choose your own parameter values $a > 0, b > 0$ and use $(2, 3, 2)$… as a start point for your iterations.… [W]rite… code for the conjugate gradient method, output a plot that illustrates a convergence toward the analytical result….\""
   ]
  },
  {
   "cell_type": "markdown",
   "metadata": {},
   "source": [
    "## Solution"
   ]
  },
  {
   "cell_type": "markdown",
   "metadata": {},
   "source": [
    "We use the Polack-Ribière conjugage gradient algorithm as presented in Sébastien Bubeck, \"Convex Optimization, Algorithms and Complexity.\" We will prioritize readability over performance."
   ]
  },
  {
   "cell_type": "markdown",
   "metadata": {},
   "source": [
    "As usual, we begin by defining the parameters and some helper apparatus. We let $a = 2, b = 3$:"
   ]
  },
  {
   "cell_type": "code",
   "execution_count": 1,
   "metadata": {},
   "outputs": [
    {
     "name": "stdout",
     "output_type": "stream",
     "text": [
      "[6]\n",
      "[[ 8.00000119]\n",
      " [ 2.00000009]\n",
      " [12.00000177]]\n"
     ]
    }
   ],
   "source": [
    "import numpy as np\n",
    "import matplotlib.pyplot as plt\n",
    "\n",
    "# Parameters of the problem\n",
    "# n = 3  # dimensionality\n",
    "a = 2\n",
    "b = 3\n",
    "x0 = np.array([[2], [3], [2]])\n",
    "answer = np.array([[1], [2], [1]])\n",
    "\n",
    "def f(x):\n",
    "    return (a*(x[0]-1)**4+(x[1]-2)**2+b*(x[2]-1)**4)\n",
    "\n",
    "def grad(pt, delta = 1e-7):  # Returns an approximation of the gradient of f at a given point\n",
    "    xs = (pt @ np.ones(pt.shape).T)  # Make n copies of x so we can perturb it in n dimensions\n",
    "    xh = xs + np.eye(pt.shape[0])*delta  # Perturb along each dimension\n",
    "    return ((f(xh)-f(xs))/delta).reshape(pt.shape)  # Calculate the slope and reshape to taste\n",
    "\n",
    "def normalize(vec):\n",
    "    vec = np.array(vec, \"float\")\n",
    "    norm = np.linalg.norm(vec)\n",
    "    return vec if norm == 0 else vec/norm\n",
    "\n",
    "print(f(x0))\n",
    "print(grad(x0))\n"
   ]
  },
  {
   "cell_type": "markdown",
   "metadata": {},
   "source": [
    "The algorithm calls for a line search. Just for fun, let's make one up without consulting any resources. We'll start at the given point, figure out which direction to move in based on the gradient, extend a \"feeler\" exponentially in that direction until the gradient sign switches to obtain another bound, and then do a binary search to narrow those bounds to taste."
   ]
  },
  {
   "cell_type": "code",
   "execution_count": 2,
   "metadata": {},
   "outputs": [
    {
     "name": "stdout",
     "output_type": "stream",
     "text": [
      "7.799705841748938e-07\n"
     ]
    }
   ],
   "source": [
    "def line_grad(x, p):  # Component of the gradient parallel to p\n",
    "    return (grad(x).T @ normalize(p))[0,0]\n",
    "\n",
    "def my_line_search(x, p, feeler_init = 1e-3, feeler_step=2, tolerance=1e-7, max_iters=1000):\n",
    "    la = 0\n",
    "    lgla = line_grad(x, p)\n",
    "    lb = -line_grad(x, p)*feeler_init\n",
    "    # Part 1: Obtain a bound opposite from the one we have\n",
    "    i = 0\n",
    "    while lgla * line_grad(x+lb*p, p) > 0:  # We need one endpoint to have a positive gradient and one a negative <=> product is negative\n",
    "        lb *= feeler_step\n",
    "        i += 1\n",
    "        if i >= max_iters: raise TimeoutError(\"Timed out in bounds expansion\")\n",
    "    lmax, lmin = max(la, lb), min(la, lb)\n",
    "    # Part 2: Now we know that the true lambda is between lmin and lmax, so we can binary search\n",
    "    i = 0\n",
    "    while lmax-lmin > tolerance:\n",
    "        lnew = (lmax+lmin)/2\n",
    "        if line_grad(x+lnew*p, p) > 0: lmax = lnew\n",
    "        else: lmin = lnew\n",
    "        i += 1\n",
    "        if i >= max_iters: raise TimeoutError(\"Timed out in binary search\")\n",
    "    return x+lnew*p\n",
    "\n",
    "print(line_grad(my_line_search(x0, grad(x0)), grad(x0)))"
   ]
  },
  {
   "cell_type": "markdown",
   "metadata": {},
   "source": [
    "Now for the algorithm itself:"
   ]
  },
  {
   "cell_type": "code",
   "execution_count": 3,
   "metadata": {},
   "outputs": [
    {
     "name": "stdout",
     "output_type": "stream",
     "text": [
      "[[ 0.11971635]\n",
      " [ 1.59571753]\n",
      " [-0.13344435]]\n"
     ]
    }
   ],
   "source": [
    "p0 = grad(x0)\n",
    "\n",
    "def get_next_x(this_x, this_p):\n",
    "    return my_line_search(this_x, this_p)\n",
    "\n",
    "def get_next_p(this_x, next_x, this_p):\n",
    "    numer = (grad(next_x)-grad(this_x)).T @ grad(next_x)\n",
    "    denom = grad(this_x).T @ grad(this_x)\n",
    "    return grad(next_x)+(numer/denom)*this_p\n",
    "\n",
    "print(get_next_p(x0, get_next_x(x0, p0), p0))"
   ]
  },
  {
   "cell_type": "markdown",
   "metadata": {},
   "source": [
    "We should theoretically be done after $n=3$ iterations, but let's run the algorithm for 20 iterations just to see what happens:"
   ]
  },
  {
   "cell_type": "code",
   "execution_count": 4,
   "metadata": {},
   "outputs": [
    {
     "name": "stdout",
     "output_type": "stream",
     "text": [
      "           x         y         z     error\n",
      "0   2.000000  3.000000  2.000000  1.732051\n",
      "1   1.143363  2.785841  0.715044  0.848115\n",
      "2   1.083999  1.994567  0.781215  0.234418\n",
      "3   1.077896  2.010474  0.946080  0.095315\n",
      "4   1.075811  1.999465  0.948893  0.091430\n",
      "5   1.007811  2.000814  0.983250  0.018500\n",
      "6   1.007299  1.999990  0.983536  0.018009\n",
      "7   1.003172  2.000019  0.999391  0.003229\n",
      "8   1.003166  2.000000  0.999412  0.003220\n",
      "9   1.000231  2.000000  1.000296  0.000376\n",
      "10  1.000231  2.000000  1.000296  0.000376\n",
      "11  1.000111  2.000000  0.999933  0.000129\n",
      "12  1.000111  2.000000  0.999933  0.000129\n",
      "13  0.999979  2.000000  0.999972  0.000035\n",
      "14  0.999979  2.000000  0.999972  0.000035\n",
      "15  0.999988  2.000000  1.000006  0.000014\n",
      "16  0.999988  2.000000  1.000006  0.000014\n",
      "17  0.999988  2.000000  1.000007  0.000014\n",
      "18  0.999988  2.000000  1.000007  0.000014\n",
      "19  0.999988  2.000000  1.000007  0.000014\n"
     ]
    },
    {
     "data": {
      "image/png": "[encoded data removed]",
      "text/plain": [
       "<Figure size 864x288 with 2 Axes>"
      ]
     },
     "metadata": {
      "needs_background": "light"
     },
     "output_type": "display_data"
    }
   ],
   "source": [
    "n_iters = 20\n",
    "this_x, this_p = x0, p0\n",
    "x_ts = [this_x]\n",
    "p_ts = [this_p]\n",
    "i = 1\n",
    "while (i < n_iters):\n",
    "    next_x = get_next_x(this_x, this_p)\n",
    "    next_p = get_next_p(this_x, next_x, this_p)\n",
    "    this_x, this_p = next_x, next_p\n",
    "    x_ts.append(this_x)\n",
    "    p_ts.append(this_p)\n",
    "    i += 1\n",
    "\n",
    "results = np.concatenate([np.array(x_ts)[:,:,0], np.linalg.norm(np.array(x_ts)-answer, axis=1)], axis=-1)\n",
    "try:  # If you have pandas, let's use it to print prettily\n",
    "    import pandas as pd\n",
    "    print(pd.DataFrame(results, columns=[\"x\", \"y\", \"z\", \"error\"]))\n",
    "except ModuleNotFoundError:  # Otherwise, this is fine\n",
    "    print(\"x, y, z, error:\")\n",
    "    print(results)\n",
    "\n",
    "# Line plot of the results\n",
    "fig, axs = plt.subplots(1, 2, figsize=(12, 4))\n",
    "axs[0].plot(list(range(n_iters)), np.linalg.norm(np.array(x_ts)-answer, axis=1))\n",
    "axs[0].set_xticks(np.arange(0, n_iters+1, 3))\n",
    "axs[0].set_ylabel(\"Distance from correct answer\")\n",
    "axs[0].set_xlabel(\"Iteration #\")\n",
    "axs[0].set_title(\"Convergence\")\n",
    "\n",
    "# Scatter plot of the results with a logarithmic y-axis\n",
    "axs[1].scatter(list(range(n_iters)), np.linalg.norm(np.array(x_ts)-answer, axis=1))\n",
    "axs[1].set_yscale(\"log\")\n",
    "axs[1].set_xticks(np.arange(0, n_iters+1, 3))\n",
    "axs[1].set_ylabel(\"Log-distance from correct answer\")\n",
    "axs[1].set_xlabel(\"Iteration #\")\n",
    "axs[1].set_title(\"Convergence (log scale)\")\n",
    "plt.show()"
   ]
  },
  {
   "cell_type": "markdown",
   "metadata": {},
   "source": [
    "Success! As Jonathan Richard Shewchuk, \"An Introduction to the Conjugate Gradient Method Without the Agonizing Pain\" explains, roundoff and cancellation error keep the theoretical result of convergence in $n$ iterations from being achieved in practice. However, we can achieve a reasonably good result by brute iteration. There is an interesting pattern visible in the log-convergence plot above, where after the initial three iterations it seems that the odd iterations make much more of an improvement than the even iterations."
   ]
  }
 ],
 "metadata": {
  "kernelspec": {
   "display_name": "Python 3.10.4 ('NOAA-new4')",
   "language": "python",
   "name": "python3"
  },
  "language_info": {
   "codemirror_mode": {
    "name": "ipython",
    "version": 3
   },
   "file_extension": ".py",
   "mimetype": "text/x-python",
   "name": "python",
   "nbconvert_exporter": "python",
   "pygments_lexer": "ipython3",
   "version": "3.10.4"
  },
  "orig_nbformat": 4,
  "vscode": {
   "interpreter": {
    "hash": "14f23bc15fa2a9b8265d1e51794e99855102cbc7e23f98bc87a194261d0b0c26"
   }
  }
 },
 "nbformat": 4,
 "nbformat_minor": 2
}

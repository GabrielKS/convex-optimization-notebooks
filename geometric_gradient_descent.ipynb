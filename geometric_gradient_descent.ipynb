{
 "cells": [
  {
   "cell_type": "markdown",
   "metadata": {},
   "source": [
    "# Geometric Gradient Descent\n",
    "\n",
    "Gabriel Konar-Steenberg, 2022-10-25"
   ]
  },
  {
   "cell_type": "markdown",
   "metadata": {},
   "source": [
    "## Problem Statement\n",
    "\n",
    "Recall the problem from `conjugate_gradient_method.ipynb`:\n",
    "\n",
    "\"For a convex optimization problem with a cost function to minimize:\n",
    "$$ f(x, y, z) = a(x-1)^4+(y-2)^2+b(z-1)^4 $$\n",
    "choose your own parameter values $a > 0, b > 0$ and use $(2, 3, 2)$… as a start point for your iterations.… [W]rite… code for the conjugate gradient method, output a plot that illustrates a convergence toward the analytical result….\"\n",
    "\n",
    "(We chose $a=2, b=3$.) Now, we are asked to solve the same problem using the geometric gradient descent method from Sébastien Bubeck, \"Convex Optimization, Algorithms and Complexity,\" Section 3.6.1."
   ]
  },
  {
   "cell_type": "markdown",
   "metadata": {},
   "source": [
    "## Solution"
   ]
  },
  {
   "cell_type": "markdown",
   "metadata": {},
   "source": [
    "Adapting our solution for the previous homework, we define the parameters of the problem and some helper apparatus. For simplicity, we will begin with a ball of radius $R_0=4$."
   ]
  },
  {
   "cell_type": "code",
   "execution_count": 1,
   "metadata": {},
   "outputs": [
    {
     "name": "stdout",
     "output_type": "stream",
     "text": [
      "[6]\n",
      "[[ 8.000012]\n",
      " [ 2.000001]\n",
      " [12.000018]]\n",
      "[[24.00026844  0.          0.        ]\n",
      " [ 0.          1.99946726  0.        ]\n",
      " [ 0.          0.         36.00044707]]\n",
      "18.36692043798863\n",
      "[[1.7799804 ]\n",
      " [2.94499515]\n",
      " [1.6699706 ]]\n",
      "[[-2.04108249]\n",
      " [ 1.98973039]\n",
      " [-4.06162373]]\n"
     ]
    }
   ],
   "source": [
    "import numpy as np\n",
    "import matplotlib.pyplot as plt\n",
    "\n",
    "# Parameters of the problem\n",
    "# n = 3  # dimensionality\n",
    "a = 2\n",
    "b = 3\n",
    "x0 = np.array([[2], [3], [2]])\n",
    "R0 = 4\n",
    "B0 = (x0, R0**2)\n",
    "answer = np.array([[1], [2], [1]])\n",
    "\n",
    "def f(x):\n",
    "    return (a*(x[0]-1)**4+(x[1]-2)**2+b*(x[2]-1)**4)\n",
    "\n",
    "norm2 = np.linalg.norm  # Alias for the Euclidean norm\n",
    "\n",
    "def grad_1d(pt, delta = 1e-6):  # Returns an approximation of the gradient of f at a given point\n",
    "    xs = np.tile(pt, (*pt.shape, 1))  # Make n copies of x so we can perturb it in n dimensions\n",
    "    xh = xs + np.eye(*xs.shape)*delta  # Perturb along each dimension\n",
    "    return ((f(xh)-f(xs))/delta)  # Calculate the slope and reshape to taste  \n",
    "\n",
    "def grad_col(pt, *args):  # grad_1d but accepts and returns column vectors\n",
    "    return grad_1d(pt.T[0], *args).reshape(pt.shape)\n",
    "\n",
    "def hess_1d(pt, delta_1 = 1e-6, delta_2 = 1e-5):  # Returns an approximation of the Hessian of f at a given point\n",
    "    xs = np.tile(pt, (*pt.shape, 1))\n",
    "    xh = xs + np.eye(*xs.shape)*delta_2\n",
    "    # Presumably if I worked at it longer I could find an elegant way to do this without apply_along_axis\n",
    "    initial = np.apply_along_axis(grad_1d, -1, xs, delta=delta_1)\n",
    "    final = np.apply_along_axis(grad_1d, -1, xh, delta=delta_1)\n",
    "    return (final-initial)/delta_2\n",
    "\n",
    "def hess_col(pt, *args):  # hess_1d but accepts and returns column vectors\n",
    "    return hess_1d(pt.T[0], *args).T\n",
    "\n",
    "def normalize(vec):\n",
    "    vec = np.array(vec, \"float\")\n",
    "    vec_norm = norm2(vec)\n",
    "    return vec if vec_norm == 0 else vec/vec_norm\n",
    "\n",
    "# Maximum alpha for alpha-convexity is minimum eigenvalue of Hessian\n",
    "# We need alpha-convexity in the neighborhood, not just at the point, so we add in a safety factor\n",
    "# TODO: is there a better way to do this?\n",
    "def max_alpha(x, safety=1.01):\n",
    "    return np.min(np.linalg.eig(hess_col(x))[0])/safety\n",
    "\n",
    "def min_beta(x, safety=1.01):  # Minimum beta for beta-smoothness is maximum eigenvalue of Hessian\n",
    "    return np.max(np.linalg.eig(hess_col(x))[0])*safety\n",
    "\n",
    "def get_kappa(x):  # Condition number = beta/alpha\n",
    "    return min_beta(x)/max_alpha(x)\n",
    "\n",
    "def get_x_plus(x):  # x^+\n",
    "    return x-1/min_beta(x)*grad_col(x)\n",
    "\n",
    "def get_x_plus_plus(x):  # x^{++}\n",
    "    this_alpha = max_alpha(x)\n",
    "    if this_alpha == 0: raise ZeroDivisionError(\"alpha is zero\")\n",
    "    return x-1/this_alpha*grad_col(x)\n",
    "\n",
    "print(f(x0))\n",
    "# print(grad(x0.T[0]))\n",
    "print(grad_col(x0))\n",
    "# print(hess(x0.T[0]))\n",
    "print(hess_col(x0))\n",
    "# print(max_alpha(x0))\n",
    "# print(min_beta(x0))\n",
    "print(get_kappa(x0))\n",
    "print(get_x_plus(x0))\n",
    "print(get_x_plus_plus(x0))"
   ]
  },
  {
   "cell_type": "markdown",
   "metadata": {},
   "source": [
    "For this method to work, we need to represent a ball enclosing the intersection of two other balls, which are themselves parametrized as $B(x, r^2)$, where $x$ is the center and $r$ the radius. We want this intersection-enclosing ball to be as small as possible. If the two balls are $B_a = B(x_a, r_a^2)$ and $B_b = B(x_b, r_b^2)$, define $d = \\|x_b-x_a\\|_2$ and $x_{off} = \\frac{r_a^2-r_b^2+d^2}{2d}$; then, such a ball is $B_{enc} = B(x_a+x_{off}\\frac{x_b-x_a}{d}, r_a^2-x_{off}^2)$ by a simple geometric argument. We demonstrate:"
   ]
  },
  {
   "cell_type": "code",
   "execution_count": 2,
   "metadata": {},
   "outputs": [
    {
     "data": {
      "image/png": "[encoded data removed]",
      "text/plain": [
       "<Figure size 432x288 with 1 Axes>"
      ]
     },
     "metadata": {
      "needs_background": "light"
     },
     "output_type": "display_data"
    }
   ],
   "source": [
    "demo_Ba = (np.array([[1], [2]]), 3**2)\n",
    "demo_Bb = (np.array([[5], [4]]), 2**2)\n",
    "\n",
    "def get_b_enc(Ba, Bb):\n",
    "    xa, r2a = Ba\n",
    "    xb, r2b = Bb\n",
    "    d = norm2(xb-xa)\n",
    "    xoff = (r2a-r2b+d**2)/(2*d)\n",
    "    return (xa+xoff*(xb-xa)/d, r2a-xoff**2)\n",
    "\n",
    "def plot_2d_ball(x, r2, *args, **kwargs):\n",
    "    t = np.linspace(0, 2*np.pi, 100)\n",
    "    pts = x+np.sqrt(r2)*np.array([np.cos(t), np.sin(t)])\n",
    "    line = plt.plot(*pts, *args, **kwargs)\n",
    "    plt.plot(*x[:,0], \".\", color=line[0].get_color())\n",
    "\n",
    "plot_2d_ball(*demo_Ba)\n",
    "plot_2d_ball(*demo_Bb)\n",
    "plot_2d_ball(*get_b_enc(demo_Ba, demo_Bb))"
   ]
  },
  {
   "cell_type": "markdown",
   "metadata": {},
   "source": [
    "Now, let's put this together with (3.16) from Bubeck to construct our algorithm…"
   ]
  },
  {
   "cell_type": "code",
   "execution_count": 3,
   "metadata": {},
   "outputs": [],
   "source": [
    "def opposite_enclosing_ball(this_B):  # Can't figure out a good name for it -- this is the ball in (3.16)\n",
    "    this_x, this_r2 = this_B\n",
    "    return (get_x_plus_plus(this_x), norm2(grad_col(this_x))**2/max_alpha(this_x)**2 * (1-1/get_kappa(this_x)))\n",
    "\n",
    "def get_next_b(this_B):\n",
    "    opposite = opposite_enclosing_ball(this_B)\n",
    "    return get_b_enc(this_B, opposite)"
   ]
  },
  {
   "cell_type": "markdown",
   "metadata": {},
   "source": [
    "…and see if it works:"
   ]
  },
  {
   "cell_type": "code",
   "execution_count": 4,
   "metadata": {},
   "outputs": [
    {
     "name": "stdout",
     "output_type": "stream",
     "text": [
      "Terminating after 548 iterations as radius has gone negative\n",
      "            x         y         z    radius     error\n",
      "0    2.000000  3.000000  2.000000  4.000000  1.732051\n",
      "27   1.023149  2.149082  0.982718  0.784915  0.151856\n",
      "54   1.018375  2.004434  0.985828  0.639767  0.023625\n",
      "81   1.014682  1.978512  0.988435  0.521200  0.028479\n",
      "108  1.013335  2.008115  0.989430  0.476548  0.018852\n",
      "135  1.012086  1.996604  0.990369  0.434468  0.015823\n",
      "162  1.009674  1.999169  0.992214  0.348180  0.012446\n",
      "189  1.008911  1.988869  0.992812  0.321679  0.015967\n",
      "216  1.008597  2.011900  0.993059  0.310776  0.016238\n",
      "243  1.004569  1.993525  0.996270  0.145472  0.008759\n",
      "270  1.004440  2.006358  0.996375  0.141452  0.008560\n",
      "297  1.004396  1.999848  0.996411  0.140040  0.005677\n",
      "324  1.004229  1.998397  0.996547  0.134780  0.005690\n",
      "351  1.003567  1.999091  0.997087  0.111902  0.004694\n",
      "378  1.003516  1.999851  0.997129  0.110316  0.004542\n",
      "405  1.003445  2.000634  0.997187  0.108148  0.004493\n",
      "432  1.002851  2.000499  0.997671  0.089068  0.003715\n",
      "459  1.002778  2.003118  0.997731  0.086913  0.004753\n",
      "486  1.002672  1.999281  0.997818  0.083680  0.003524\n",
      "513  1.002464  1.999861  0.997988  0.077171  0.003184\n",
      "540  1.002401  1.998678  0.998039  0.075227  0.003370\n"
     ]
    },
    {
     "data": {
      "image/png": "[encoded data removed]",
      "text/plain": [
       "<Figure size 864x288 with 2 Axes>"
      ]
     },
     "metadata": {
      "needs_background": "light"
     },
     "output_type": "display_data"
    }
   ],
   "source": [
    "n_iters = 1000\n",
    "this_b = B0\n",
    "bs = []\n",
    "opps = []\n",
    "\n",
    "i = 1\n",
    "while (i < n_iters):\n",
    "    try:\n",
    "        this_opp = opposite_enclosing_ball(this_b)\n",
    "        bs.append(this_b)\n",
    "        opps.append(this_opp)\n",
    "        next_b = get_next_b(this_b)\n",
    "        if next_b[1] > this_b[1]:\n",
    "            print(f\"Terminating after {i} iterations as radius is no longer decreasing\")\n",
    "            break\n",
    "        if next_b[1] < 0:\n",
    "            print(f\"Terminating after {i} iterations as radius has gone negative\")\n",
    "            break\n",
    "        this_b = next_b\n",
    "        i += 1\n",
    "    except Exception as e:\n",
    "        print(f\"Terminating after {i} iterations due to error '{e}'\")\n",
    "        break\n",
    "if (i == n_iters): print(f\"Terminating after {n_iters} iterations as planned\")\n",
    "\n",
    "centers = np.array([b[0] for b in bs])\n",
    "radii = np.sqrt(np.array([b[1] for b in bs]))\n",
    "errors = np.linalg.norm(centers-answer, axis=1)\n",
    "results = np.concatenate([centers[:,:,0], radii.reshape((*radii.shape, 1)), errors], axis=-1)\n",
    "\n",
    "try:  # If you have pandas, let's use it to print prettily\n",
    "    import pandas as pd\n",
    "    print(pd.DataFrame(results, columns=[\"x\", \"y\", \"z\", \"radius\", \"error\"])[::max(1, i//20)])\n",
    "except ModuleNotFoundError:  # Fallback\n",
    "    print(\"i, x, y, z, radius, error:\")\n",
    "    ind = np.arange(i).reshape((*radii.shape, 1))\n",
    "    print(np.concatenate([ind, results], axis=-1)[::max(1, i//20)])\n",
    "\n",
    "# Line plot of the results\n",
    "fig, axs = plt.subplots(1, 2, figsize=(12, 4))\n",
    "axs[0].plot(list(range(i)), errors)\n",
    "axs[0].set_ylabel(\"Distance from correct answer\")\n",
    "axs[0].set_xlabel(\"Iteration #\")\n",
    "axs[0].set_title(\"Convergence\")\n",
    "\n",
    "# Scatter plot of the results with a logarithmic y-axis\n",
    "axs[1].scatter(list(range(i)), errors)\n",
    "axs[1].set_yscale(\"log\")\n",
    "axs[1].set_ylabel(\"Log-distance from correct answer\")\n",
    "axs[1].set_xlabel(\"Iteration #\")\n",
    "axs[1].set_title(\"Convergence (log scale)\")\n",
    "plt.show()"
   ]
  }
 ],
 "metadata": {
  "kernelspec": {
   "display_name": "Python 3.10.4 ('NOAA-new4')",
   "language": "python",
   "name": "python3"
  },
  "language_info": {
   "codemirror_mode": {
    "name": "ipython",
    "version": 3
   },
   "file_extension": ".py",
   "mimetype": "text/x-python",
   "name": "python",
   "nbconvert_exporter": "python",
   "pygments_lexer": "ipython3",
   "version": "3.10.4"
  },
  "orig_nbformat": 4,
  "vscode": {
   "interpreter": {
    "hash": "14f23bc15fa2a9b8265d1e51794e99855102cbc7e23f98bc87a194261d0b0c26"
   }
  }
 },
 "nbformat": 4,
 "nbformat_minor": 2
}
